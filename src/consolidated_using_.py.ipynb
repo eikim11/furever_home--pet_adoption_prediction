{
 "cells": [
  {
   "cell_type": "code",
   "execution_count": 4,
   "metadata": {},
   "outputs": [],
   "source": [
    "import clean_data\n",
    "import run_models"
   ]
  },
  {
   "cell_type": "code",
   "execution_count": 6,
   "metadata": {},
   "outputs": [
    {
     "name": "stdout",
     "output_type": "stream",
     "text": [
      "Results from XG Boost Classifier - Predict Outcome\n",
      "Confusion Matrix: \n",
      " [[ 584   66   81   33]\n",
      " [  43  567  164  169]\n",
      " [  30   65 1417  169]\n",
      " [  17   51  148 1365]]\n",
      "Precision = 0.7919050918082114\n",
      "Recall = 0.7915073455423627\n",
      "Accuracy = 0.7915073455423627\n",
      "\n",
      " classification report by class: \n",
      "               precision    recall  f1-score   support\n",
      "\n",
      "           0      0.866     0.764     0.812       764\n",
      "           1      0.757     0.601     0.670       943\n",
      "           2      0.783     0.843     0.812      1681\n",
      "           3      0.786     0.863     0.823      1581\n",
      "\n",
      "    accuracy                          0.792      4969\n",
      "   macro avg      0.798     0.768     0.779      4969\n",
      "weighted avg      0.792     0.792     0.789      4969\n",
      "\n",
      "Accuracy per class: [0.86646884 0.75700935 0.78287293 0.78629032] \n",
      "\n",
      "Results from XG Boost Regressor - Predict Number of Days in Shelter\n",
      "Average baseline error:  16.33\n",
      "Mean Absolute Error (MAE): 11.293924626935341\n"
     ]
    }
   ],
   "source": [
    "!python run_models.py"
   ]
  },
  {
   "cell_type": "code",
   "execution_count": null,
   "metadata": {},
   "outputs": [],
   "source": []
  }
 ],
 "metadata": {
  "kernelspec": {
   "display_name": "Python 3",
   "language": "python",
   "name": "python3"
  },
  "language_info": {
   "codemirror_mode": {
    "name": "ipython",
    "version": 3
   },
   "file_extension": ".py",
   "mimetype": "text/x-python",
   "name": "python",
   "nbconvert_exporter": "python",
   "pygments_lexer": "ipython3",
   "version": "3.7.0"
  }
 },
 "nbformat": 4,
 "nbformat_minor": 4
}
